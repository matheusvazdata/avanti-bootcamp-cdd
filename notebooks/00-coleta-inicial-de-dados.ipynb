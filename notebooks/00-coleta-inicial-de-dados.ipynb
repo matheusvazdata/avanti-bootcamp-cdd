{
 "cells": [
  {
   "cell_type": "markdown",
   "id": "4f3490eb-0217-4f38-bf9c-132320da9980",
   "metadata": {},
   "source": [
    "# Atividade 04: Dicionário de dados"
   ]
  },
  {
   "cell_type": "markdown",
   "id": "fd147854-7aae-4976-a6d5-72724a6ee3f5",
   "metadata": {
    "tags": []
   },
   "source": [
    "#### 1. Realizar coleta inicial de dados\n",
    "Seja ela através de download ou criação de script para download automático dos dados. Você deverá criar um arquivo com os dados e colocá-lo na pasta data/raw."
   ]
  },
  {
   "cell_type": "code",
   "execution_count": 1,
   "id": "c5736e07-c55d-4d05-9817-8b33b6af6ffc",
   "metadata": {
    "tags": []
   },
   "outputs": [],
   "source": [
    "# Importando as bibliotecas pandas e seaborn\n",
    "import pandas as pd\n",
    "import seaborn as sns\n",
    "\n",
    "# Permitindo que uma coluna específica (ou todas) mostre todo o conteúdo sem truncar\n",
    "pd.set_option('display.max_colwidth', None)"
   ]
  },
  {
   "cell_type": "code",
   "execution_count": 2,
   "id": "dbd83369-d032-4037-95e8-6cd0ee07ed63",
   "metadata": {
    "tags": []
   },
   "outputs": [],
   "source": [
    "# Carregando o dataset do titanic e salvando na pasta raw\n",
    "df = sns.load_dataset('tips')\n",
    "df.to_csv('../data/raw/tips.csv', index = False)"
   ]
  },
  {
   "cell_type": "markdown",
   "id": "66bca73d-77a0-45bb-83f7-12c8e71e5533",
   "metadata": {},
   "source": [
    "#### 2. Criar dicionário de dados\n",
    "Uma estrutura que servirá para explicar o dado que será trabalhado. Você poderá criar um dicionário python contendo as seguintes informações para cada uma das variáveis do conjunto de dados:\n",
    "- variavel: nome da coluna no pandas\n",
    "- descricao: descrição da coluna\n",
    "- tipo: quantitativa ou qualitativa\n",
    "- subtipo: nominal, ordinal, discreta, contínua"
   ]
  },
  {
   "cell_type": "code",
   "execution_count": 3,
   "id": "fb570669-0cf6-424b-9e5d-d2a2941de9be",
   "metadata": {
    "tags": []
   },
   "outputs": [
    {
     "data": {
      "text/html": [
       "<div>\n",
       "<style scoped>\n",
       "    .dataframe tbody tr th:only-of-type {\n",
       "        vertical-align: middle;\n",
       "    }\n",
       "\n",
       "    .dataframe tbody tr th {\n",
       "        vertical-align: top;\n",
       "    }\n",
       "\n",
       "    .dataframe thead th {\n",
       "        text-align: right;\n",
       "    }\n",
       "</style>\n",
       "<table border=\"1\" class=\"dataframe\">\n",
       "  <thead>\n",
       "    <tr style=\"text-align: right;\">\n",
       "      <th></th>\n",
       "      <th>total_bill</th>\n",
       "      <th>tip</th>\n",
       "      <th>sex</th>\n",
       "      <th>smoker</th>\n",
       "      <th>day</th>\n",
       "      <th>time</th>\n",
       "      <th>size</th>\n",
       "    </tr>\n",
       "  </thead>\n",
       "  <tbody>\n",
       "    <tr>\n",
       "      <th>0</th>\n",
       "      <td>16.99</td>\n",
       "      <td>1.01</td>\n",
       "      <td>Female</td>\n",
       "      <td>No</td>\n",
       "      <td>Sun</td>\n",
       "      <td>Dinner</td>\n",
       "      <td>2</td>\n",
       "    </tr>\n",
       "    <tr>\n",
       "      <th>1</th>\n",
       "      <td>10.34</td>\n",
       "      <td>1.66</td>\n",
       "      <td>Male</td>\n",
       "      <td>No</td>\n",
       "      <td>Sun</td>\n",
       "      <td>Dinner</td>\n",
       "      <td>3</td>\n",
       "    </tr>\n",
       "    <tr>\n",
       "      <th>2</th>\n",
       "      <td>21.01</td>\n",
       "      <td>3.50</td>\n",
       "      <td>Male</td>\n",
       "      <td>No</td>\n",
       "      <td>Sun</td>\n",
       "      <td>Dinner</td>\n",
       "      <td>3</td>\n",
       "    </tr>\n",
       "    <tr>\n",
       "      <th>3</th>\n",
       "      <td>23.68</td>\n",
       "      <td>3.31</td>\n",
       "      <td>Male</td>\n",
       "      <td>No</td>\n",
       "      <td>Sun</td>\n",
       "      <td>Dinner</td>\n",
       "      <td>2</td>\n",
       "    </tr>\n",
       "    <tr>\n",
       "      <th>4</th>\n",
       "      <td>24.59</td>\n",
       "      <td>3.61</td>\n",
       "      <td>Female</td>\n",
       "      <td>No</td>\n",
       "      <td>Sun</td>\n",
       "      <td>Dinner</td>\n",
       "      <td>4</td>\n",
       "    </tr>\n",
       "  </tbody>\n",
       "</table>\n",
       "</div>"
      ],
      "text/plain": [
       "   total_bill   tip     sex smoker  day    time  size\n",
       "0       16.99  1.01  Female     No  Sun  Dinner     2\n",
       "1       10.34  1.66    Male     No  Sun  Dinner     3\n",
       "2       21.01  3.50    Male     No  Sun  Dinner     3\n",
       "3       23.68  3.31    Male     No  Sun  Dinner     2\n",
       "4       24.59  3.61  Female     No  Sun  Dinner     4"
      ]
     },
     "execution_count": 3,
     "metadata": {},
     "output_type": "execute_result"
    }
   ],
   "source": [
    "# Investigando as 5 primeiras linhas do dataset\n",
    "df.head()"
   ]
  },
  {
   "cell_type": "code",
   "execution_count": 4,
   "id": "fe630be2-9b46-4176-8097-f6af68a51cac",
   "metadata": {
    "tags": []
   },
   "outputs": [
    {
     "data": {
      "text/plain": [
       "Index(['total_bill', 'tip', 'sex', 'smoker', 'day', 'time', 'size'], dtype='object')"
      ]
     },
     "execution_count": 4,
     "metadata": {},
     "output_type": "execute_result"
    }
   ],
   "source": [
    "# Listando os nomes de todas as colunas do dataset\n",
    "df.columns"
   ]
  },
  {
   "cell_type": "code",
   "execution_count": 5,
   "id": "9964345d-e053-4111-a1aa-7fdcb18d9806",
   "metadata": {
    "tags": []
   },
   "outputs": [
    {
     "data": {
      "text/html": [
       "<div>\n",
       "<style scoped>\n",
       "    .dataframe tbody tr th:only-of-type {\n",
       "        vertical-align: middle;\n",
       "    }\n",
       "\n",
       "    .dataframe tbody tr th {\n",
       "        vertical-align: top;\n",
       "    }\n",
       "\n",
       "    .dataframe thead th {\n",
       "        text-align: right;\n",
       "    }\n",
       "</style>\n",
       "<table border=\"1\" class=\"dataframe\">\n",
       "  <thead>\n",
       "    <tr style=\"text-align: right;\">\n",
       "      <th></th>\n",
       "      <th>variavel</th>\n",
       "      <th>descricao</th>\n",
       "      <th>tipo</th>\n",
       "      <th>subtipo</th>\n",
       "    </tr>\n",
       "  </thead>\n",
       "  <tbody>\n",
       "    <tr>\n",
       "      <th>0</th>\n",
       "      <td>total_bill</td>\n",
       "      <td>total da conta em dólares</td>\n",
       "      <td>quantitativa</td>\n",
       "      <td>contínua</td>\n",
       "    </tr>\n",
       "    <tr>\n",
       "      <th>1</th>\n",
       "      <td>tip</td>\n",
       "      <td>valor da gorjeta em dólares</td>\n",
       "      <td>quantitativa</td>\n",
       "      <td>contínua</td>\n",
       "    </tr>\n",
       "    <tr>\n",
       "      <th>2</th>\n",
       "      <td>sex</td>\n",
       "      <td>sexo do pagante da conta</td>\n",
       "      <td>qualitativa</td>\n",
       "      <td>nominal</td>\n",
       "    </tr>\n",
       "    <tr>\n",
       "      <th>3</th>\n",
       "      <td>smoker</td>\n",
       "      <td>indica se o grupo incluía fumantes</td>\n",
       "      <td>qualitativa</td>\n",
       "      <td>nominal</td>\n",
       "    </tr>\n",
       "    <tr>\n",
       "      <th>4</th>\n",
       "      <td>day</td>\n",
       "      <td>dia da semana</td>\n",
       "      <td>qualitativa</td>\n",
       "      <td>ordinal</td>\n",
       "    </tr>\n",
       "    <tr>\n",
       "      <th>5</th>\n",
       "      <td>time</td>\n",
       "      <td>refeição (almoço ou jantar)</td>\n",
       "      <td>qualitativa</td>\n",
       "      <td>nominal</td>\n",
       "    </tr>\n",
       "    <tr>\n",
       "      <th>6</th>\n",
       "      <td>size</td>\n",
       "      <td>tamanho do grupo</td>\n",
       "      <td>quantitativa</td>\n",
       "      <td>discreta</td>\n",
       "    </tr>\n",
       "  </tbody>\n",
       "</table>\n",
       "</div>"
      ],
      "text/plain": [
       "     variavel                           descricao          tipo   subtipo\n",
       "0  total_bill           total da conta em dólares  quantitativa  contínua\n",
       "1         tip         valor da gorjeta em dólares  quantitativa  contínua\n",
       "2         sex            sexo do pagante da conta   qualitativa   nominal\n",
       "3      smoker  indica se o grupo incluía fumantes   qualitativa   nominal\n",
       "4         day                       dia da semana   qualitativa   ordinal\n",
       "5        time         refeição (almoço ou jantar)   qualitativa   nominal\n",
       "6        size                    tamanho do grupo  quantitativa  discreta"
      ]
     },
     "execution_count": 5,
     "metadata": {},
     "output_type": "execute_result"
    }
   ],
   "source": [
    "# Criando um dicionário para o dataset tips\n",
    "dicionario_tips = {\n",
    "    'variavel': ['total_bill', 'tip', 'sex', 'smoker', 'day', 'time', 'size'],\n",
    "    'descricao': [\n",
    "        'total da conta em dólares',\n",
    "        'valor da gorjeta em dólares',\n",
    "        'sexo do pagante da conta',\n",
    "        'indica se o grupo incluía fumantes',\n",
    "        'dia da semana',\n",
    "        'refeição (almoço ou jantar)',\n",
    "        'tamanho do grupo'\n",
    "    ],\n",
    "    'tipo': ['quantitativa', 'quantitativa', 'qualitativa', 'qualitativa', 'qualitativa', 'qualitativa', 'quantitativa'],\n",
    "    'subtipo': ['contínua', 'contínua', 'nominal', 'nominal', 'ordinal', 'nominal', 'discreta']\n",
    "}\n",
    "\n",
    "# Convertendo o dicionário para um DataFrame para melhorar a visualização\n",
    "df_dicionario_tips = pd.DataFrame(dicionario_tips)\n",
    "df_dicionario_tips"
   ]
  },
  {
   "cell_type": "code",
   "execution_count": 6,
   "id": "9e4411e1-861c-49df-b1d6-7b9602aa7396",
   "metadata": {
    "tags": []
   },
   "outputs": [],
   "source": [
    "# Salvando o dicionário na pasta external\n",
    "df_dicionario_tips.to_csv('../data/external/dictionary.csv', index = False)"
   ]
  }
 ],
 "metadata": {
  "kernelspec": {
   "display_name": "Python 3 (ipykernel)",
   "language": "python",
   "name": "python3"
  },
  "language_info": {
   "codemirror_mode": {
    "name": "ipython",
    "version": 3
   },
   "file_extension": ".py",
   "mimetype": "text/x-python",
   "name": "python",
   "nbconvert_exporter": "python",
   "pygments_lexer": "ipython3",
   "version": "3.10.12"
  }
 },
 "nbformat": 4,
 "nbformat_minor": 5
}
